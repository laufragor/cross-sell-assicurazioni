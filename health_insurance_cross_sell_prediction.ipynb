{
 "cells": [
  {
   "cell_type": "markdown",
   "id": "37d0c217",
   "metadata": {},
   "source": [
    "# Previsione di opportunità di Cross Sell di assicurazioni"
   ]
  },
  {
   "cell_type": "markdown",
   "id": "2672a274",
   "metadata": {},
   "source": [
    "Il cliente è una compagnia di assicurazioni che ha fornito un'assicurazione sanitaria ai suoi clienti, adesso hanno bisogno del tuo aiuto per costruire un modello predittivo in grado di prevedere se gli assicurati dell'anno passato potrebbero essere interessati ad acquistare anche un'assicurazione per il proprio veicolo.<br><br>\n",
    "\n",
    "Il dataset è composto dalle seguenti proprietà:\n",
    "- **id**: id univoco dell'acquirente.\n",
    "- **Gender**: sesso dell'acquirente.\n",
    "- **Age**: età dell'acquirente.\n",
    "- **Driving_License**: 1 se l'utente ha la patente di guida, 0 altrimenti.\n",
    "- **Region_Code**: codice univoco della regione dell'acquirente.\n",
    "- **Previously_Insured**: 1 se l'utente ha già un veicolo assicurato, 0 altrimenti.\n",
    "- **Vehicle_Age**: età del veicolo\n",
    "- **Vehicle_Damage**: 1 se l'utente ha danneggiato il veicolo in passato, 0 altrimenti.\n",
    "- **Annual_Premium**: la cifra che l'utente deve pagare come premio durante l'anno.\n",
    "- **Policy_Sales_Channel**: codice anonimizzato del canale utilizzato per la proposta (es. per email, per telefono, di persona, ecc...)\n",
    "- **Vintage**: numero di giorni dalla quale l'utente è cliente dell'azienda.\n",
    "- **Response**: 1 se l'acquirente ha risposto positivamente alla proposta di vendità, 0 altrimenti.<br><br>\n",
    "\n",
    "L'obiettivo del modello è prevedere il valore di **Response**.<br><br>\n",
    "\n",
    "**Tip**\n",
    "Fai attenzione alla distribuzione delle classi, dai uno sguardo a [questo approfondimento](https://machinelearningmastery.com/tactics-to-combat-imbalanced-classes-in-your-machine-learning-dataset/). In caso di classi sbilanciate puoi provare a:\n",
    "\n",
    "- Penalizzare la classe più frequente (ricorda l'argomento class_weight)\n",
    "- Utilizzare [l'oversampling o l'undersampling](https://machinelearningmastery.com/random-oversampling-and-undersampling-for-imbalanced-classification/)."
   ]
  },
  {
   "cell_type": "markdown",
   "id": "ba9395f1",
   "metadata": {},
   "source": [
    "[LINK AL DATASET (Richiede un'account su Kaggle)](https://www.kaggle.com/anmolkumar/health-insurance-cross-sell-prediction)"
   ]
  },
  {
   "cell_type": "code",
   "execution_count": 1,
   "id": "0f4b5ac7",
   "metadata": {},
   "outputs": [],
   "source": [
    "import numpy as np\n",
    "import pandas as pd\n",
    "import seaborn as sns\n",
    "import matplotlib.pyplot as plt\n",
    "\n",
    "from sklearn.preprocessing import StandardScaler\n",
    "from sklearn.linear_model import LogisticRegression\n",
    "from sklearn.metrics import confusion_matrix, classification_report, RocCurveDisplay, precision_score, recall_score\n",
    "from sklearn.model_selection import train_test_split\n",
    "from collections import Counter\n",
    "\n",
    "from imblearn.under_sampling import RandomUnderSampler\n",
    "from imblearn.over_sampling import RandomOverSampler"
   ]
  },
  {
   "cell_type": "code",
   "execution_count": 111,
   "id": "6d9a2721",
   "metadata": {},
   "outputs": [],
   "source": [
    "def plot_confusion_matrix(y_true, y_pred):\n",
    "    \n",
    "    cm = confusion_matrix(y_true, y_pred)    # tn, fp, fn, tp\n",
    "    \n",
    "    df_cm = pd.DataFrame(cm,\n",
    "                         index = [\"Negative\", \"Positive\"],\n",
    "                         columns = [\"Predicted Negative\", \" Predicted Positive\"])\n",
    "    \n",
    "    sns.heatmap(df_cm, annot=True, fmt='g')    # fmt='g' dice di non usare la not.scientifica\n",
    "    plt.text(0.1, -0.1, f\"Precision: {precision_score(y_true, y_pred):.2f}\")\n",
    "    plt.text(1, -0.1, f\"Recall: {recall_score(y_true, y_pred):.2f}\")"
   ]
  },
  {
   "cell_type": "code",
   "execution_count": 157,
   "id": "a6e94fa2",
   "metadata": {},
   "outputs": [],
   "source": [
    "train = pd.read_csv(\"./dataset/train.csv\")\n",
    "test = pd.read_csv(\"./dataset/test.csv\")"
   ]
  },
  {
   "cell_type": "markdown",
   "id": "598ebbf2",
   "metadata": {},
   "source": [
    "# Preprocessing"
   ]
  },
  {
   "cell_type": "code",
   "execution_count": 158,
   "id": "079dab68",
   "metadata": {
    "scrolled": true
   },
   "outputs": [
    {
     "data": {
      "text/html": [
       "<div>\n",
       "<style scoped>\n",
       "    .dataframe tbody tr th:only-of-type {\n",
       "        vertical-align: middle;\n",
       "    }\n",
       "\n",
       "    .dataframe tbody tr th {\n",
       "        vertical-align: top;\n",
       "    }\n",
       "\n",
       "    .dataframe thead th {\n",
       "        text-align: right;\n",
       "    }\n",
       "</style>\n",
       "<table border=\"1\" class=\"dataframe\">\n",
       "  <thead>\n",
       "    <tr style=\"text-align: right;\">\n",
       "      <th></th>\n",
       "      <th>id</th>\n",
       "      <th>Gender</th>\n",
       "      <th>Age</th>\n",
       "      <th>Driving_License</th>\n",
       "      <th>Region_Code</th>\n",
       "      <th>Previously_Insured</th>\n",
       "      <th>Vehicle_Age</th>\n",
       "      <th>Vehicle_Damage</th>\n",
       "      <th>Annual_Premium</th>\n",
       "      <th>Policy_Sales_Channel</th>\n",
       "      <th>Vintage</th>\n",
       "      <th>Response</th>\n",
       "    </tr>\n",
       "  </thead>\n",
       "  <tbody>\n",
       "    <tr>\n",
       "      <th>0</th>\n",
       "      <td>1</td>\n",
       "      <td>Male</td>\n",
       "      <td>44</td>\n",
       "      <td>1</td>\n",
       "      <td>28.0</td>\n",
       "      <td>0</td>\n",
       "      <td>&gt; 2 Years</td>\n",
       "      <td>Yes</td>\n",
       "      <td>40454.0</td>\n",
       "      <td>26.0</td>\n",
       "      <td>217</td>\n",
       "      <td>1</td>\n",
       "    </tr>\n",
       "    <tr>\n",
       "      <th>1</th>\n",
       "      <td>2</td>\n",
       "      <td>Male</td>\n",
       "      <td>76</td>\n",
       "      <td>1</td>\n",
       "      <td>3.0</td>\n",
       "      <td>0</td>\n",
       "      <td>1-2 Year</td>\n",
       "      <td>No</td>\n",
       "      <td>33536.0</td>\n",
       "      <td>26.0</td>\n",
       "      <td>183</td>\n",
       "      <td>0</td>\n",
       "    </tr>\n",
       "    <tr>\n",
       "      <th>2</th>\n",
       "      <td>3</td>\n",
       "      <td>Male</td>\n",
       "      <td>47</td>\n",
       "      <td>1</td>\n",
       "      <td>28.0</td>\n",
       "      <td>0</td>\n",
       "      <td>&gt; 2 Years</td>\n",
       "      <td>Yes</td>\n",
       "      <td>38294.0</td>\n",
       "      <td>26.0</td>\n",
       "      <td>27</td>\n",
       "      <td>1</td>\n",
       "    </tr>\n",
       "    <tr>\n",
       "      <th>3</th>\n",
       "      <td>4</td>\n",
       "      <td>Male</td>\n",
       "      <td>21</td>\n",
       "      <td>1</td>\n",
       "      <td>11.0</td>\n",
       "      <td>1</td>\n",
       "      <td>&lt; 1 Year</td>\n",
       "      <td>No</td>\n",
       "      <td>28619.0</td>\n",
       "      <td>152.0</td>\n",
       "      <td>203</td>\n",
       "      <td>0</td>\n",
       "    </tr>\n",
       "    <tr>\n",
       "      <th>4</th>\n",
       "      <td>5</td>\n",
       "      <td>Female</td>\n",
       "      <td>29</td>\n",
       "      <td>1</td>\n",
       "      <td>41.0</td>\n",
       "      <td>1</td>\n",
       "      <td>&lt; 1 Year</td>\n",
       "      <td>No</td>\n",
       "      <td>27496.0</td>\n",
       "      <td>152.0</td>\n",
       "      <td>39</td>\n",
       "      <td>0</td>\n",
       "    </tr>\n",
       "  </tbody>\n",
       "</table>\n",
       "</div>"
      ],
      "text/plain": [
       "   id  Gender  Age  Driving_License  Region_Code  Previously_Insured  \\\n",
       "0   1    Male   44                1         28.0                   0   \n",
       "1   2    Male   76                1          3.0                   0   \n",
       "2   3    Male   47                1         28.0                   0   \n",
       "3   4    Male   21                1         11.0                   1   \n",
       "4   5  Female   29                1         41.0                   1   \n",
       "\n",
       "  Vehicle_Age Vehicle_Damage  Annual_Premium  Policy_Sales_Channel  Vintage  \\\n",
       "0   > 2 Years            Yes         40454.0                  26.0      217   \n",
       "1    1-2 Year             No         33536.0                  26.0      183   \n",
       "2   > 2 Years            Yes         38294.0                  26.0       27   \n",
       "3    < 1 Year             No         28619.0                 152.0      203   \n",
       "4    < 1 Year             No         27496.0                 152.0       39   \n",
       "\n",
       "   Response  \n",
       "0         1  \n",
       "1         0  \n",
       "2         1  \n",
       "3         0  \n",
       "4         0  "
      ]
     },
     "execution_count": 158,
     "metadata": {},
     "output_type": "execute_result"
    }
   ],
   "source": [
    "train.head()"
   ]
  },
  {
   "cell_type": "code",
   "execution_count": 5,
   "id": "b462e823",
   "metadata": {},
   "outputs": [
    {
     "name": "stdout",
     "output_type": "stream",
     "text": [
      "<class 'pandas.core.frame.DataFrame'>\n",
      "RangeIndex: 381109 entries, 0 to 381108\n",
      "Data columns (total 12 columns):\n",
      " #   Column                Non-Null Count   Dtype  \n",
      "---  ------                --------------   -----  \n",
      " 0   id                    381109 non-null  int64  \n",
      " 1   Gender                381109 non-null  object \n",
      " 2   Age                   381109 non-null  int64  \n",
      " 3   Driving_License       381109 non-null  int64  \n",
      " 4   Region_Code           381109 non-null  float64\n",
      " 5   Previously_Insured    381109 non-null  int64  \n",
      " 6   Vehicle_Age           381109 non-null  object \n",
      " 7   Vehicle_Damage        381109 non-null  object \n",
      " 8   Annual_Premium        381109 non-null  float64\n",
      " 9   Policy_Sales_Channel  381109 non-null  float64\n",
      " 10  Vintage               381109 non-null  int64  \n",
      " 11  Response              381109 non-null  int64  \n",
      "dtypes: float64(3), int64(6), object(3)\n",
      "memory usage: 34.9+ MB\n"
     ]
    }
   ],
   "source": [
    "train.info()"
   ]
  },
  {
   "cell_type": "code",
   "execution_count": 6,
   "id": "c0b73152",
   "metadata": {
    "scrolled": true
   },
   "outputs": [
    {
     "name": "stdout",
     "output_type": "stream",
     "text": [
      "<class 'pandas.core.frame.DataFrame'>\n",
      "RangeIndex: 127037 entries, 0 to 127036\n",
      "Data columns (total 11 columns):\n",
      " #   Column                Non-Null Count   Dtype  \n",
      "---  ------                --------------   -----  \n",
      " 0   id                    127037 non-null  int64  \n",
      " 1   Gender                127037 non-null  object \n",
      " 2   Age                   127037 non-null  int64  \n",
      " 3   Driving_License       127037 non-null  int64  \n",
      " 4   Region_Code           127037 non-null  float64\n",
      " 5   Previously_Insured    127037 non-null  int64  \n",
      " 6   Vehicle_Age           127037 non-null  object \n",
      " 7   Vehicle_Damage        127037 non-null  object \n",
      " 8   Annual_Premium        127037 non-null  float64\n",
      " 9   Policy_Sales_Channel  127037 non-null  float64\n",
      " 10  Vintage               127037 non-null  int64  \n",
      "dtypes: float64(3), int64(5), object(3)\n",
      "memory usage: 10.7+ MB\n"
     ]
    }
   ],
   "source": [
    "test.info()"
   ]
  },
  {
   "cell_type": "code",
   "execution_count": 7,
   "id": "bafd23ef",
   "metadata": {},
   "outputs": [
    {
     "data": {
      "text/plain": [
       "id                      0\n",
       "Gender                  0\n",
       "Age                     0\n",
       "Driving_License         0\n",
       "Region_Code             0\n",
       "Previously_Insured      0\n",
       "Vehicle_Age             0\n",
       "Vehicle_Damage          0\n",
       "Annual_Premium          0\n",
       "Policy_Sales_Channel    0\n",
       "Vintage                 0\n",
       "Response                0\n",
       "dtype: int64"
      ]
     },
     "execution_count": 7,
     "metadata": {},
     "output_type": "execute_result"
    }
   ],
   "source": [
    "train.isna().sum()"
   ]
  },
  {
   "cell_type": "code",
   "execution_count": 8,
   "id": "a102ca7f",
   "metadata": {},
   "outputs": [
    {
     "data": {
      "text/plain": [
       "id                      0\n",
       "Gender                  0\n",
       "Age                     0\n",
       "Driving_License         0\n",
       "Region_Code             0\n",
       "Previously_Insured      0\n",
       "Vehicle_Age             0\n",
       "Vehicle_Damage          0\n",
       "Annual_Premium          0\n",
       "Policy_Sales_Channel    0\n",
       "Vintage                 0\n",
       "dtype: int64"
      ]
     },
     "execution_count": 8,
     "metadata": {},
     "output_type": "execute_result"
    }
   ],
   "source": [
    "test.isna().sum()"
   ]
  },
  {
   "cell_type": "code",
   "execution_count": 9,
   "id": "7cf902f8",
   "metadata": {
    "scrolled": true
   },
   "outputs": [
    {
     "data": {
      "text/plain": [
       "Male      206089\n",
       "Female    175020\n",
       "Name: Gender, dtype: int64"
      ]
     },
     "execution_count": 9,
     "metadata": {},
     "output_type": "execute_result"
    }
   ],
   "source": [
    "train[\"Gender\"].value_counts()"
   ]
  },
  {
   "cell_type": "code",
   "execution_count": 10,
   "id": "49062501",
   "metadata": {},
   "outputs": [
    {
     "data": {
      "text/plain": [
       "1-2 Year     200316\n",
       "< 1 Year     164786\n",
       "> 2 Years     16007\n",
       "Name: Vehicle_Age, dtype: int64"
      ]
     },
     "execution_count": 10,
     "metadata": {},
     "output_type": "execute_result"
    }
   ],
   "source": [
    "train[\"Vehicle_Age\"].value_counts()"
   ]
  },
  {
   "cell_type": "code",
   "execution_count": 11,
   "id": "665181ad",
   "metadata": {},
   "outputs": [
    {
     "data": {
      "text/plain": [
       "Yes    192413\n",
       "No     188696\n",
       "Name: Vehicle_Damage, dtype: int64"
      ]
     },
     "execution_count": 11,
     "metadata": {},
     "output_type": "execute_result"
    }
   ],
   "source": [
    "train[\"Vehicle_Damage\"].value_counts()"
   ]
  },
  {
   "cell_type": "code",
   "execution_count": 12,
   "id": "5d5d3565",
   "metadata": {},
   "outputs": [],
   "source": [
    "# Codifico le variabili non numeriche\n",
    "def encode_dataset(dataset):\n",
    "    \n",
    "    # Gender\n",
    "    gender_mapping = {\"Male\": 1, \"Female\": 0}\n",
    "    dataset[\"Gender\"] = dataset[\"Gender\"].map(lambda t:gender_mapping[t])\n",
    "    \n",
    "    # Vehicle_Age\n",
    "    vehicle_age_mapping = {\"< 1 Year\": 1, \"1-2 Year\": 2, \"> 2 Years\": 3}\n",
    "    dataset[\"Vehicle_Age\"] = dataset[\"Vehicle_Age\"].map(lambda t:vehicle_age_mapping[t])\n",
    "    \n",
    "    # Vehicle_Damage\n",
    "    vehicle_damage_mapping = {\"Yes\": 1, \"No\": 0}\n",
    "    dataset[\"Vehicle_Damage\"] = dataset[\"Vehicle_Damage\"].map(lambda t:vehicle_damage_mapping[t])\n",
    "    \n",
    "    return dataset"
   ]
  },
  {
   "cell_type": "code",
   "execution_count": 13,
   "id": "c82a42e5",
   "metadata": {},
   "outputs": [],
   "source": [
    "train = encode_dataset(train)"
   ]
  },
  {
   "cell_type": "code",
   "execution_count": 162,
   "id": "bac244ac",
   "metadata": {},
   "outputs": [],
   "source": [
    "test = encode_dataset(test)"
   ]
  },
  {
   "cell_type": "code",
   "execution_count": 16,
   "id": "41cba75e",
   "metadata": {},
   "outputs": [],
   "source": [
    "y = train[\"Response\"].values\n",
    "X = train.drop([\"id\", \"Response\"], axis=1).values"
   ]
  },
  {
   "cell_type": "code",
   "execution_count": 156,
   "id": "9016b4e4",
   "metadata": {},
   "outputs": [
    {
     "name": "stdout",
     "output_type": "stream",
     "text": [
      "(381109,) (381109, 10)\n"
     ]
    }
   ],
   "source": [
    "print(y.shape, X.shape)"
   ]
  },
  {
   "cell_type": "markdown",
   "id": "cf3f952b",
   "metadata": {},
   "source": [
    "### Verifico se la variabile target è sbilanciata"
   ]
  },
  {
   "cell_type": "code",
   "execution_count": 18,
   "id": "f3c9289c",
   "metadata": {},
   "outputs": [
    {
     "name": "stdout",
     "output_type": "stream",
     "text": [
      "Counter({0: 334399, 1: 46710})\n",
      "0.877436638861848\n"
     ]
    }
   ],
   "source": [
    "print(Counter(y))\n",
    "print(Counter(y)[0] / (Counter(y)[1] + Counter(y)[0]))    # CLASSI SBILANCIATE\n",
    "                                                          # Circa i 7/8 della var target sono \"0\""
   ]
  },
  {
   "cell_type": "markdown",
   "id": "29bb7731",
   "metadata": {},
   "source": [
    "# Creazione del modello  \n",
    "**L'obiettivo del modello deve essere di non lasciarsi sfuggire alcun interessato, mentre poco importa se qualche non interessato viene indicato come interessato (in tal caso, contattandoli risponderanno semplicemente di no).  \n",
    "Quindi l'obiettivo è avere pochissimi falsi negativi (Recall alto).**  \n",
    "  \n",
    "Provo a creare diversi modelli:\n",
    "1. Senza correzioni per le classi sbilanciate\n",
    "2. Correzione di LogisticRegression()\n",
    "3. Undersampling\n",
    "4. Oversampling\n",
    "5. Undersampling + Oversampling\n",
    "\n",
    "Noto che senza correzioni ottengo un modello inutile (recall per classe positiva = 0), mentre **con tutte le altre correzioni ottengo gli stessi risultati**."
   ]
  },
  {
   "cell_type": "code",
   "execution_count": 112,
   "id": "870fa551",
   "metadata": {},
   "outputs": [],
   "source": [
    "# \"_\" davanti perché riuserò questi risultati senza mai modificare queste variabili \n",
    "_X_train, _X_val, _y_train, _y_val = train_test_split(X, y, test_size=0.15)"
   ]
  },
  {
   "cell_type": "code",
   "execution_count": 181,
   "id": "f9a334cb",
   "metadata": {},
   "outputs": [
    {
     "name": "stdout",
     "output_type": "stream",
     "text": [
      "(323942, 10) (57167, 10) (323942,) (57167,)\n"
     ]
    }
   ],
   "source": [
    "print(_X_train.shape, _X_val.shape, _y_train.shape, _y_val.shape)"
   ]
  },
  {
   "cell_type": "markdown",
   "id": "35214bbf",
   "metadata": {},
   "source": [
    "## Nessuna correzione"
   ]
  },
  {
   "cell_type": "code",
   "execution_count": 182,
   "id": "722c570c",
   "metadata": {
    "scrolled": true
   },
   "outputs": [
    {
     "name": "stdout",
     "output_type": "stream",
     "text": [
      "              precision    recall  f1-score   support\n",
      "\n",
      "           0       0.88      1.00      0.93    284173\n",
      "           1       0.37      0.00      0.00     39769\n",
      "\n",
      "    accuracy                           0.88    323942\n",
      "   macro avg       0.62      0.50      0.47    323942\n",
      "weighted avg       0.81      0.88      0.82    323942\n",
      "\n",
      "              precision    recall  f1-score   support\n",
      "\n",
      "           0       0.88      1.00      0.94     50226\n",
      "           1       0.37      0.00      0.00      6941\n",
      "\n",
      "    accuracy                           0.88     57167\n",
      "   macro avg       0.62      0.50      0.47     57167\n",
      "weighted avg       0.82      0.88      0.82     57167\n",
      "\n"
     ]
    }
   ],
   "source": [
    "X_train, X_val, y_train, y_val = _X_train, _X_val, _y_train, _y_val\n",
    "\n",
    "ss = StandardScaler()\n",
    "X_train = ss.fit_transform(X_train)\n",
    "X_val = ss.transform(X_val)\n",
    "lr = LogisticRegression()\n",
    "lr.fit(X_train, y_train)\n",
    "\n",
    "y_pred_train = lr.predict(X_train)\n",
    "y_pred_val = lr.predict(X_val)\n",
    "print(classification_report(y_train, y_pred_train, digits=2))\n",
    "print(classification_report(y_val, y_pred_val, digits=2))"
   ]
  },
  {
   "cell_type": "markdown",
   "id": "f8e4d541",
   "metadata": {},
   "source": [
    "## Correzione classi sbilanciate"
   ]
  },
  {
   "cell_type": "code",
   "execution_count": 115,
   "id": "1c837bd1",
   "metadata": {
    "scrolled": true
   },
   "outputs": [
    {
     "name": "stdout",
     "output_type": "stream",
     "text": [
      "              precision    recall  f1-score   support\n",
      "\n",
      "           0       0.99      0.59      0.74    284173\n",
      "           1       0.25      0.98      0.40     39769\n",
      "\n",
      "    accuracy                           0.64    323942\n",
      "   macro avg       0.62      0.78      0.57    323942\n",
      "weighted avg       0.90      0.64      0.70    323942\n",
      "\n",
      "              precision    recall  f1-score   support\n",
      "\n",
      "           0       0.99      0.59      0.74     50226\n",
      "           1       0.25      0.97      0.40      6941\n",
      "\n",
      "    accuracy                           0.64     57167\n",
      "   macro avg       0.62      0.78      0.57     57167\n",
      "weighted avg       0.90      0.64      0.70     57167\n",
      "\n"
     ]
    }
   ],
   "source": [
    "X_train, X_val, y_train, y_val = _X_train, _X_val, _y_train, _y_val\n",
    "\n",
    "ss = StandardScaler()\n",
    "X_train = ss.fit_transform(X_train)\n",
    "X_val = ss.transform(X_val)\n",
    "lr = LogisticRegression(class_weight=\"balanced\")\n",
    "lr.fit(X_train, y_train)\n",
    "\n",
    "y_pred_train = lr.predict(X_train)\n",
    "y_pred_val = lr.predict(X_val)\n",
    "print(classification_report(y_train, y_pred_train, digits=2))\n",
    "print(classification_report(y_val, y_pred_val, digits=2))"
   ]
  },
  {
   "cell_type": "markdown",
   "id": "de7e213d",
   "metadata": {},
   "source": [
    "## Solo undersampling"
   ]
  },
  {
   "cell_type": "code",
   "execution_count": 116,
   "id": "6277062b",
   "metadata": {},
   "outputs": [
    {
     "name": "stdout",
     "output_type": "stream",
     "text": [
      "              precision    recall  f1-score   support\n",
      "\n",
      "           0       0.96      0.59      0.73     39769\n",
      "           1       0.71      0.98      0.82     39769\n",
      "\n",
      "    accuracy                           0.78     79538\n",
      "   macro avg       0.83      0.78      0.78     79538\n",
      "weighted avg       0.83      0.78      0.78     79538\n",
      "\n",
      "              precision    recall  f1-score   support\n",
      "\n",
      "           0       0.99      0.59      0.74     50226\n",
      "           1       0.25      0.97      0.40      6941\n",
      "\n",
      "    accuracy                           0.64     57167\n",
      "   macro avg       0.62      0.78      0.57     57167\n",
      "weighted avg       0.90      0.64      0.70     57167\n",
      "\n"
     ]
    }
   ],
   "source": [
    "X_train, X_val, y_train, y_val = _X_train, _X_val, _y_train, _y_val\n",
    "\n",
    "undersample = RandomUnderSampler(sampling_strategy='majority')\n",
    "X_train, y_train = undersample.fit_resample(X_train, y_train)\n",
    "\n",
    "ss = StandardScaler()\n",
    "X_train = ss.fit_transform(X_train)\n",
    "X_val = ss.transform(X_val)\n",
    "lr.fit(X_train, y_train)\n",
    "\n",
    "y_pred_train = lr.predict(X_train)\n",
    "y_pred_val = lr.predict(X_val)\n",
    "print(classification_report(y_train, y_pred_train, digits=2))\n",
    "print(classification_report(y_val, y_pred_val, digits=2))"
   ]
  },
  {
   "cell_type": "markdown",
   "id": "351a061e",
   "metadata": {},
   "source": [
    "## Solo oversampling"
   ]
  },
  {
   "cell_type": "code",
   "execution_count": 117,
   "id": "1e2dae8a",
   "metadata": {},
   "outputs": [
    {
     "name": "stdout",
     "output_type": "stream",
     "text": [
      "              precision    recall  f1-score   support\n",
      "\n",
      "           0       0.99      0.59      0.74    284173\n",
      "           1       0.37      0.98      0.54     71043\n",
      "\n",
      "    accuracy                           0.67    355216\n",
      "   macro avg       0.68      0.78      0.64    355216\n",
      "weighted avg       0.87      0.67      0.70    355216\n",
      "\n",
      "              precision    recall  f1-score   support\n",
      "\n",
      "           0       0.99      0.59      0.74     50226\n",
      "           1       0.25      0.97      0.40      6941\n",
      "\n",
      "    accuracy                           0.64     57167\n",
      "   macro avg       0.62      0.78      0.57     57167\n",
      "weighted avg       0.90      0.64      0.70     57167\n",
      "\n"
     ]
    }
   ],
   "source": [
    "X_train, X_val, y_train, y_val = _X_train, _X_val, _y_train, _y_val\n",
    "\n",
    "oversample = RandomOverSampler(sampling_strategy=0.25)\n",
    "X_train, y_train = oversample.fit_resample(X_train, y_train)\n",
    "\n",
    "ss = StandardScaler()\n",
    "X_train = ss.fit_transform(X_train)\n",
    "X_val = ss.transform(X_val)\n",
    "lr.fit(X_train, y_train)\n",
    "\n",
    "y_pred_train = lr.predict(X_train)\n",
    "y_pred_val = lr.predict(X_val)\n",
    "print(classification_report(y_train, y_pred_train, digits=2))\n",
    "print(classification_report(y_val, y_pred_val, digits=2))"
   ]
  },
  {
   "cell_type": "markdown",
   "id": "35774a87",
   "metadata": {},
   "source": [
    "## Undersampling e oversampling"
   ]
  },
  {
   "cell_type": "code",
   "execution_count": 118,
   "id": "85056611",
   "metadata": {},
   "outputs": [
    {
     "name": "stdout",
     "output_type": "stream",
     "text": [
      "              precision    recall  f1-score   support\n",
      "\n",
      "           0       0.96      0.59      0.73    284173\n",
      "           1       0.71      0.98      0.82    284173\n",
      "\n",
      "    accuracy                           0.78    568346\n",
      "   macro avg       0.83      0.78      0.78    568346\n",
      "weighted avg       0.83      0.78      0.78    568346\n",
      "\n",
      "              precision    recall  f1-score   support\n",
      "\n",
      "           0       0.99      0.59      0.74     50226\n",
      "           1       0.25      0.97      0.39      6941\n",
      "\n",
      "    accuracy                           0.64     57167\n",
      "   macro avg       0.62      0.78      0.57     57167\n",
      "weighted avg       0.90      0.64      0.70     57167\n",
      "\n"
     ]
    }
   ],
   "source": [
    "X_train, X_val, y_train, y_val = _X_train, _X_val, _y_train, _y_val\n",
    "\n",
    "oversample = RandomOverSampler(sampling_strategy='minority')\n",
    "X_train, y_train = oversample.fit_resample(X_train, y_train)\n",
    "\n",
    "undersample = RandomUnderSampler(sampling_strategy='majority')\n",
    "X_train, y_train = undersample.fit_resample(X_train, y_train)\n",
    "\n",
    "ss = StandardScaler()\n",
    "X_train = ss.fit_transform(X_train)\n",
    "X_val = ss.transform(X_val)\n",
    "lr.fit(X_train, y_train)\n",
    "\n",
    "y_pred_train = lr.predict(X_train)\n",
    "y_pred_val = lr.predict(X_val)\n",
    "print(classification_report(y_train, y_pred_train, digits=2))\n",
    "print(classification_report(y_val, y_pred_val, digits=2))"
   ]
  },
  {
   "cell_type": "markdown",
   "id": "fa1eb5d6",
   "metadata": {},
   "source": [
    "# Scelgo un modello e provo diverse soglie di decisione"
   ]
  },
  {
   "cell_type": "code",
   "execution_count": 122,
   "id": "2dc3e042",
   "metadata": {},
   "outputs": [],
   "source": [
    "X_train, X_val, y_train, y_val = _X_train, _X_val, _y_train, _y_val\n",
    "\n",
    "ss = StandardScaler()\n",
    "X_train = ss.fit_transform(X_train)\n",
    "X_val = ss.transform(X_val)\n",
    "lr = LogisticRegression(class_weight=\"balanced\")\n",
    "lr.fit(X_train, y_train)\n",
    "\n",
    "y_proba_train = lr.predict_proba(X_train)\n",
    "y_proba_val = lr.predict_proba(X_val)"
   ]
  },
  {
   "cell_type": "code",
   "execution_count": 132,
   "id": "f7c21cb7",
   "metadata": {},
   "outputs": [],
   "source": [
    "def classification_report_and_confusion_matrix(y_val, y_proba_val, boundary):\n",
    "    \n",
    "    y_pred_val = np.where(y_proba_val[:,1] > boundary, 1, 0)\n",
    "    \n",
    "    print(classification_report(y_val, y_pred_val, digits=3))\n",
    "    plot_confusion_matrix(y_val, y_pred_val)"
   ]
  },
  {
   "cell_type": "code",
   "execution_count": 141,
   "id": "a267a01a",
   "metadata": {
    "scrolled": false
   },
   "outputs": [
    {
     "name": "stdout",
     "output_type": "stream",
     "text": [
      "              precision    recall  f1-score   support\n",
      "\n",
      "           0      0.996     0.573     0.727     50226\n",
      "           1      0.241     0.982     0.387      6941\n",
      "\n",
      "    accuracy                          0.623     57167\n",
      "   macro avg      0.618     0.778     0.557     57167\n",
      "weighted avg      0.904     0.623     0.686     57167\n",
      "\n"
     ]
    },
    {
     "data": {
      "image/png": "[encoded data removed]",
      "text/plain": [
       "<Figure size 640x480 with 2 Axes>"
      ]
     },
     "metadata": {},
     "output_type": "display_data"
    }
   ],
   "source": [
    "classification_report_and_confusion_matrix(y_val, y_proba_val, boundary=0.25)"
   ]
  },
  {
   "cell_type": "code",
   "execution_count": 142,
   "id": "357d3a89",
   "metadata": {},
   "outputs": [
    {
     "name": "stdout",
     "output_type": "stream",
     "text": [
      "              precision    recall  f1-score   support\n",
      "\n",
      "           0      0.999     0.520     0.684     50226\n",
      "           1      0.223     0.997     0.364      6941\n",
      "\n",
      "    accuracy                          0.578     57167\n",
      "   macro avg      0.611     0.758     0.524     57167\n",
      "weighted avg      0.905     0.578     0.645     57167\n",
      "\n"
     ]
    },
    {
     "data": {
      "image/png": "[encoded data removed]",
      "text/plain": [
       "<Figure size 640x480 with 2 Axes>"
      ]
     },
     "metadata": {},
     "output_type": "display_data"
    }
   ],
   "source": [
    "classification_report_and_confusion_matrix(y_val, y_proba_val, boundary=0.10)"
   ]
  },
  {
   "cell_type": "code",
   "execution_count": 143,
   "id": "f965e1ac",
   "metadata": {},
   "outputs": [
    {
     "name": "stdout",
     "output_type": "stream",
     "text": [
      "              precision    recall  f1-score   support\n",
      "\n",
      "           0      1.000     0.490     0.657     50226\n",
      "           1      0.213     0.998     0.351      6941\n",
      "\n",
      "    accuracy                          0.552     57167\n",
      "   macro avg      0.606     0.744     0.504     57167\n",
      "weighted avg      0.904     0.552     0.620     57167\n",
      "\n"
     ]
    },
    {
     "data": {
      "image/png": "[encoded data removed]",
      "text/plain": [
       "<Figure size 640x480 with 2 Axes>"
      ]
     },
     "metadata": {},
     "output_type": "display_data"
    }
   ],
   "source": [
    "classification_report_and_confusion_matrix(y_val, y_proba_val, boundary=0.01)"
   ]
  },
  {
   "cell_type": "code",
   "execution_count": 144,
   "id": "f088f093",
   "metadata": {
    "scrolled": true
   },
   "outputs": [
    {
     "name": "stdout",
     "output_type": "stream",
     "text": [
      "              precision    recall  f1-score   support\n",
      "\n",
      "           0      1.000     0.000     0.000     50226\n",
      "           1      0.121     1.000     0.217      6941\n",
      "\n",
      "    accuracy                          0.122     57167\n",
      "   macro avg      0.561     0.500     0.108     57167\n",
      "weighted avg      0.893     0.122     0.026     57167\n",
      "\n"
     ]
    },
    {
     "data": {
      "image/png": "[encoded data removed]",
      "text/plain": [
       "<Figure size 640x480 with 2 Axes>"
      ]
     },
     "metadata": {},
     "output_type": "display_data"
    }
   ],
   "source": [
    "classification_report_and_confusion_matrix(y_val, y_proba_val, boundary=0.001)    # inutile"
   ]
  },
  {
   "cell_type": "markdown",
   "id": "c4604d47",
   "metadata": {},
   "source": [
    "* Concludo che 0.01 è il valore migliore per la decision boundary (ho il numero minore di falsi negativi sul set di validazione, e la precision resta simile a prima)"
   ]
  },
  {
   "cell_type": "markdown",
   "id": "ae8fa571",
   "metadata": {},
   "source": [
    "# Previsione finale"
   ]
  },
  {
   "cell_type": "code",
   "execution_count": 176,
   "id": "dd1e864c",
   "metadata": {},
   "outputs": [
    {
     "data": {
      "text/plain": [
       "Counter({0: 54983, 1: 72054})"
      ]
     },
     "execution_count": 176,
     "metadata": {},
     "output_type": "execute_result"
    }
   ],
   "source": [
    "X_test = test.drop(\"id\", axis=1).values\n",
    "X_train, y_train = _X_train, _y_train\n",
    "\n",
    "BOUNDARY = 0.01\n",
    "\n",
    "ss = StandardScaler()\n",
    "X_train = ss.fit_transform(X_train)\n",
    "X_test = ss.transform(X_test)\n",
    "\n",
    "lr = LogisticRegression(class_weight=\"balanced\")\n",
    "lr.fit(X_train, y_train)\n",
    "\n",
    "y_proba_test = lr.predict_proba(X_test)\n",
    "y_pred_test = np.where(y_proba_test[:,1] > BOUNDARY, 1, 0)\n",
    "Counter(y_pred_test)"
   ]
  },
  {
   "cell_type": "code",
   "execution_count": 180,
   "id": "775766f2",
   "metadata": {},
   "outputs": [],
   "source": [
    "test_result = pd.DataFrame({\n",
    "    \"id\": test[\"id\"],\n",
    "    \"Response\": y_pred_test\n",
    "})\n",
    "test_result.to_csv(\"./dataset/test_with_response.csv\", index=False)"
   ]
  },
  {
   "cell_type": "code",
   "execution_count": null,
   "id": "65c584ac",
   "metadata": {},
   "outputs": [],
   "source": []
  }
 ],
 "metadata": {
  "kernelspec": {
   "display_name": "Python 3 (ipykernel)",
   "language": "python",
   "name": "python3"
  },
  "language_info": {
   "codemirror_mode": {
    "name": "ipython",
    "version": 3
   },
   "file_extension": ".py",
   "mimetype": "text/x-python",
   "name": "python",
   "nbconvert_exporter": "python",
   "pygments_lexer": "ipython3",
   "version": "3.10.9"
  }
 },
 "nbformat": 4,
 "nbformat_minor": 5
}
